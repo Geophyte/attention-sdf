{
 "cells": [
  {
   "cell_type": "code",
   "execution_count": 1,
   "metadata": {},
   "outputs": [],
   "source": [
    "import os\n",
    "import sys\n",
    "module_path = os.path.abspath(os.path.join('..'))\n",
    "if module_path not in sys.path:\n",
    "    sys.path.append(module_path)\n",
    "%load_ext autoreload\n",
    "%autoreload 2"
   ]
  },
  {
   "cell_type": "code",
   "execution_count": 2,
   "metadata": {},
   "outputs": [
    {
     "name": "stdout",
     "output_type": "stream",
     "text": [
      "cuda\n"
     ]
    }
   ],
   "source": [
    "from src.models.modules import *\n",
    "from src.models.loss import L1_epsilon_lambda\n",
    "from dataclasses import dataclass\n",
    "import torch\n",
    "\n",
    "torch.manual_seed(42)\n",
    "device = torch.device('cuda' if torch.cuda.is_available() else 'cpu')\n",
    "\n",
    "@dataclass\n",
    "class SDFTransformerConfig:\n",
    "    dim_context: int\n",
    "    dim_input: int\n",
    "    num_outputs: int\n",
    "    dim_output: int\n",
    "    delta: float = 0.1\n",
    "    dim_hidden: int = 128\n",
    "    num_inds: int = 64\n",
    "    num_heads: int = 4\n",
    "    ln: bool = False\n",
    "\n",
    "class SDFTransformer(nn.Module):\n",
    "    def __init__(self, config: SDFTransformerConfig):\n",
    "        super(SDFTransformer, self).__init__()\n",
    "        self.config = config\n",
    "        self.epsilon = None\n",
    "        self.lambdaa = None\n",
    "        self.proj = nn.Linear(config.dim_context + 1, config.dim_hidden)\n",
    "        self.enc = nn.Sequential(\n",
    "            SAB(config.dim_hidden, config.dim_hidden, config.num_heads, ln=config.ln),\n",
    "            nn.SiLU(),\n",
    "            SAB(config.dim_hidden, config.dim_hidden, config.num_heads, ln=config.ln),\n",
    "            nn.SiLU(),\n",
    "            SAB(config.dim_hidden, config.dim_hidden, config.num_heads, ln=config.ln),\n",
    "            nn.SiLU(),\n",
    "            PMA(config.dim_hidden, config.num_heads, config.num_outputs, ln=config.ln),\n",
    "            nn.SiLU(),\n",
    "            nn.Linear(config.dim_hidden, config.dim_output),\n",
    "            nn.Tanh()\n",
    "        )\n",
    "\n",
    "    def forward(self, context: torch.Tensor, x: torch.Tensor, labels: torch.Tensor = None):\n",
    "        point = x.expand(-1, context.shape[1], -1)  # [batch_size, context_size, dim_input]\n",
    "        distances = torch.norm(context[..., :3] - point, dim=-1, keepdim=True) # [batch_size, context_size, 1]\n",
    "\n",
    "        context = torch.cat([context, distances], dim=-1)  # [batch_size, context_size, dim_context + 1]\n",
    "        y = self.proj(context)                             # [batch_size, context_size, dim_hidden]]\n",
    "        y = self.enc(y)                                    # [batch_size, num_outputs, dim_output]\n",
    "\n",
    "        loss = None\n",
    "        if labels is not None:\n",
    "            loss = L1_epsilon_lambda(y, labels, self.epsilon, self.lambdaa, self.config.delta)\n",
    "        return {'loss': loss, 'logits': y}\n",
    "\n",
    "config = SDFTransformerConfig(dim_context=4, dim_input=3, num_outputs=1, dim_output=1)\n",
    "model = SDFTransformer(config).to(device)\n",
    "print(device)"
   ]
  },
  {
   "cell_type": "code",
   "execution_count": 3,
   "metadata": {},
   "outputs": [],
   "source": [
    "from src.models.dataset import LazySampleDataset\n",
    "from pathlib import Path\n",
    "\n",
    "project_dir = Path(os.path.abspath('')).resolve().parent\n",
    "procesed_dir = project_dir / 'data' / 'processed'\n",
    "\n",
    "train_files = list(procesed_dir.rglob('*_train.hdf5'))\n",
    "val_files = list(procesed_dir.rglob('*_val.hdf5'))\n",
    "\n",
    "train_dataset = LazySampleDataset(train_files)\n",
    "val_dataset = LazySampleDataset(val_files)"
   ]
  },
  {
   "cell_type": "code",
   "execution_count": 4,
   "metadata": {},
   "outputs": [
    {
     "name": "stdout",
     "output_type": "stream",
     "text": [
      "C:\\_prog\\vm_shared\\attention-sdf\\results\\2024_12_29_enc_dst-2024-12-29-14-06-52\n"
     ]
    }
   ],
   "source": [
    "from src.data.load_data import get_results_dir\n",
    "from datetime import datetime\n",
    "\n",
    "notebook_name = '2024_12_29_enc_dst'\n",
    "current_date = datetime.now().strftime(\"%Y-%m-%d-%H-%M-%S\")\n",
    "folder_name = f\"{notebook_name}-{current_date}\"\n",
    "result_dir = get_results_dir() / folder_name\n",
    "result_dir.mkdir(parents=True, exist_ok=True)\n",
    "print(result_dir)"
   ]
  },
  {
   "cell_type": "code",
   "execution_count": 5,
   "metadata": {},
   "outputs": [],
   "source": [
    "from transformers import Trainer, TrainingArguments\n",
    "\n",
    "batch_size = 40\n",
    "training_args = TrainingArguments(\n",
    "    output_dir=result_dir / \"results\",\n",
    "    eval_strategy=\"epoch\",\n",
    "    per_device_train_batch_size=batch_size,\n",
    "    per_device_eval_batch_size=batch_size,\n",
    "    num_train_epochs=1,\n",
    "    logging_dir=result_dir / \"logs\",\n",
    "    logging_steps=10,\n",
    "    weight_decay=0.01,\n",
    "    save_total_limit=3,\n",
    "    seed=42\n",
    ")\n",
    "\n",
    "trainer = Trainer(\n",
    "    model=model,\n",
    "    args=training_args,\n",
    "    train_dataset=train_dataset,\n",
    "    eval_dataset=val_dataset,\n",
    ")\n",
    "\n",
    "curriculum_schedule = [\n",
    "    {\"epochs\": 2, \"epsilon\": 0.02,   \"lambda\": 0.0,  'learning_rate': 5e-5},\n",
    "    {\"epochs\": 2, \"epsilon\": 0.0075, \"lambda\": 0.15, 'learning_rate': 4e-5},\n",
    "    {\"epochs\": 2, \"epsilon\": 0.004,  \"lambda\": 0.3,  'learning_rate': 3e-5},\n",
    "    {\"epochs\": 2, \"epsilon\": 0.002,  \"lambda\": 0.4,  'learning_rate': 2e-5},\n",
    "    {\"epochs\": 2, \"epsilon\": 0.0,    \"lambda\": 0.5,  'learning_rate': 1e-5}\n",
    "]"
   ]
  },
  {
   "cell_type": "code",
   "execution_count": null,
   "metadata": {},
   "outputs": [
    {
     "data": {
      "application/vnd.jupyter.widget-view+json": {
       "model_id": "42103febb17f491585935d0353bd9ce9",
       "version_major": 2,
       "version_minor": 0
      },
      "text/plain": [
       "  0%|          | 0/18000 [00:00<?, ?it/s]"
      ]
     },
     "metadata": {},
     "output_type": "display_data"
    },
    {
     "name": "stdout",
     "output_type": "stream",
     "text": [
      "{'loss': 0.0768, 'grad_norm': 0.0, 'learning_rate': 4.997222222222223e-05, 'epoch': 0.0}\n",
      "{'loss': 0.0761, 'grad_norm': 0.0, 'learning_rate': 4.994444444444445e-05, 'epoch': 0.0}\n",
      "{'loss': 0.0755, 'grad_norm': 0.0, 'learning_rate': 4.991666666666667e-05, 'epoch': 0.0}\n",
      "{'loss': 0.0792, 'grad_norm': 0.0, 'learning_rate': 4.9888888888888894e-05, 'epoch': 0.0}\n",
      "{'loss': 0.0782, 'grad_norm': 0.0, 'learning_rate': 4.986111111111111e-05, 'epoch': 0.01}\n",
      "{'loss': 0.0773, 'grad_norm': 0.0, 'learning_rate': 4.9833333333333336e-05, 'epoch': 0.01}\n",
      "{'loss': 0.0784, 'grad_norm': 0.0, 'learning_rate': 4.9805555555555554e-05, 'epoch': 0.01}\n",
      "{'loss': 0.0751, 'grad_norm': 0.0, 'learning_rate': 4.977777777777778e-05, 'epoch': 0.01}\n",
      "{'loss': 0.0784, 'grad_norm': 0.0, 'learning_rate': 4.975e-05, 'epoch': 0.01}\n",
      "{'loss': 0.077, 'grad_norm': 0.0, 'learning_rate': 4.972222222222223e-05, 'epoch': 0.01}\n",
      "{'loss': 0.0764, 'grad_norm': 0.0, 'learning_rate': 4.969444444444445e-05, 'epoch': 0.01}\n",
      "{'loss': 0.0762, 'grad_norm': 0.0, 'learning_rate': 4.966666666666667e-05, 'epoch': 0.01}\n",
      "{'loss': 0.0768, 'grad_norm': 0.0, 'learning_rate': 4.963888888888889e-05, 'epoch': 0.01}\n",
      "{'loss': 0.0785, 'grad_norm': 0.0, 'learning_rate': 4.961111111111111e-05, 'epoch': 0.02}\n",
      "{'loss': 0.0783, 'grad_norm': 0.0, 'learning_rate': 4.958333333333334e-05, 'epoch': 0.02}\n",
      "{'loss': 0.077, 'grad_norm': 0.0, 'learning_rate': 4.955555555555556e-05, 'epoch': 0.02}\n",
      "{'loss': 0.0772, 'grad_norm': 0.0, 'learning_rate': 4.952777777777778e-05, 'epoch': 0.02}\n",
      "{'loss': 0.0763, 'grad_norm': 0.0, 'learning_rate': 4.9500000000000004e-05, 'epoch': 0.02}\n",
      "{'loss': 0.0783, 'grad_norm': 0.0, 'learning_rate': 4.947222222222223e-05, 'epoch': 0.02}\n",
      "{'loss': 0.0773, 'grad_norm': 0.0, 'learning_rate': 4.9444444444444446e-05, 'epoch': 0.02}\n",
      "{'loss': 0.0779, 'grad_norm': 0.0, 'learning_rate': 4.9416666666666664e-05, 'epoch': 0.02}\n",
      "{'loss': 0.0784, 'grad_norm': 0.0, 'learning_rate': 4.938888888888889e-05, 'epoch': 0.02}\n",
      "{'loss': 0.0777, 'grad_norm': 0.0, 'learning_rate': 4.936111111111111e-05, 'epoch': 0.03}\n",
      "{'loss': 0.076, 'grad_norm': 0.0, 'learning_rate': 4.933333333333334e-05, 'epoch': 0.03}\n",
      "{'loss': 0.0752, 'grad_norm': 0.0, 'learning_rate': 4.930555555555556e-05, 'epoch': 0.03}\n",
      "{'loss': 0.0766, 'grad_norm': 0.0, 'learning_rate': 4.927777777777778e-05, 'epoch': 0.03}\n",
      "{'loss': 0.0762, 'grad_norm': 0.0, 'learning_rate': 4.9250000000000004e-05, 'epoch': 0.03}\n",
      "{'loss': 0.077, 'grad_norm': 0.0, 'learning_rate': 4.922222222222222e-05, 'epoch': 0.03}\n",
      "{'loss': 0.0763, 'grad_norm': 0.0, 'learning_rate': 4.919444444444445e-05, 'epoch': 0.03}\n",
      "{'loss': 0.0766, 'grad_norm': 0.0, 'learning_rate': 4.9166666666666665e-05, 'epoch': 0.03}\n",
      "{'loss': 0.0753, 'grad_norm': 0.0, 'learning_rate': 4.913888888888889e-05, 'epoch': 0.03}\n",
      "{'loss': 0.0779, 'grad_norm': 0.0, 'learning_rate': 4.9111111111111114e-05, 'epoch': 0.04}\n",
      "{'loss': 0.0756, 'grad_norm': 0.0, 'learning_rate': 4.908333333333334e-05, 'epoch': 0.04}\n",
      "{'loss': 0.0765, 'grad_norm': 0.0, 'learning_rate': 4.905555555555556e-05, 'epoch': 0.04}\n",
      "{'loss': 0.0776, 'grad_norm': 0.0, 'learning_rate': 4.902777777777778e-05, 'epoch': 0.04}\n",
      "{'loss': 0.077, 'grad_norm': 0.0, 'learning_rate': 4.9e-05, 'epoch': 0.04}\n",
      "{'loss': 0.0774, 'grad_norm': 0.0, 'learning_rate': 4.897222222222222e-05, 'epoch': 0.04}\n",
      "{'loss': 0.076, 'grad_norm': 0.0, 'learning_rate': 4.894444444444445e-05, 'epoch': 0.04}\n",
      "{'loss': 0.0771, 'grad_norm': 0.0, 'learning_rate': 4.891666666666667e-05, 'epoch': 0.04}\n",
      "{'loss': 0.0769, 'grad_norm': 0.0, 'learning_rate': 4.888888888888889e-05, 'epoch': 0.04}\n",
      "{'loss': 0.077, 'grad_norm': 0.0, 'learning_rate': 4.8861111111111114e-05, 'epoch': 0.05}\n",
      "{'loss': 0.0785, 'grad_norm': 0.0, 'learning_rate': 4.883333333333334e-05, 'epoch': 0.05}\n",
      "{'loss': 0.0786, 'grad_norm': 0.0, 'learning_rate': 4.880555555555556e-05, 'epoch': 0.05}\n",
      "{'loss': 0.0776, 'grad_norm': 0.0, 'learning_rate': 4.8777777777777775e-05, 'epoch': 0.05}\n",
      "{'loss': 0.0775, 'grad_norm': 0.0, 'learning_rate': 4.875e-05, 'epoch': 0.05}\n",
      "{'loss': 0.0777, 'grad_norm': 0.0, 'learning_rate': 4.8722222222222224e-05, 'epoch': 0.05}\n",
      "{'loss': 0.0789, 'grad_norm': 0.0, 'learning_rate': 4.869444444444445e-05, 'epoch': 0.05}\n",
      "{'loss': 0.0774, 'grad_norm': 0.0, 'learning_rate': 4.866666666666667e-05, 'epoch': 0.05}\n",
      "{'loss': 0.0783, 'grad_norm': 0.0, 'learning_rate': 4.863888888888889e-05, 'epoch': 0.05}\n",
      "{'loss': 0.0749, 'grad_norm': 0.0, 'learning_rate': 4.8611111111111115e-05, 'epoch': 0.06}\n",
      "{'loss': 0.0776, 'grad_norm': 0.0, 'learning_rate': 4.858333333333333e-05, 'epoch': 0.06}\n"
     ]
    }
   ],
   "source": [
    "from src.visualization.generate_mesh import generate_meshes\n",
    "from src.data.load_data import get_data_dir\n",
    "\n",
    "obj_dir = get_data_dir() / 'intermediate'\n",
    "format_string_base = \"{name}-\" + current_date + \"-curriculum-\"\n",
    "\n",
    "for i, stage in enumerate(curriculum_schedule):\n",
    "    model.epsilon = stage['epsilon']\n",
    "    model.lambdaa = stage['lambda']\n",
    "    trainer.args.num_train_epochs = stage['epochs']\n",
    "    trainer.args.learning_rate = stage['learning_rate']\n",
    "    trainer.train()\n",
    "    format_string = format_string_base + str(i) + \".obj\"\n",
    "    generate_meshes(model, obj_dir, result_dir, format_string, device,\n",
    "        batch_size, resolution=100, context_size=200)\n",
    "train_dataset.close()\n",
    "val_dataset.close()"
   ]
  },
  {
   "cell_type": "code",
   "execution_count": 7,
   "metadata": {},
   "outputs": [],
   "source": [
    "import json\n",
    "from dataclasses import asdict\n",
    "\n",
    "current_date = datetime.now().strftime(\"%Y-%m-%d\")\n",
    "model_name = f\"{current_date}-model\"\n",
    "config_name = f\"{current_date}-config.json\"\n",
    "trainer.save_model(result_dir / model_name)\n",
    "\n",
    "with open(result_dir / config_name, 'w') as f:\n",
    "    json.dump(asdict(config), f)"
   ]
  }
 ],
 "metadata": {
  "kernelspec": {
   "display_name": "venv",
   "language": "python",
   "name": "python3"
  },
  "language_info": {
   "codemirror_mode": {
    "name": "ipython",
    "version": 3
   },
   "file_extension": ".py",
   "mimetype": "text/x-python",
   "name": "python",
   "nbconvert_exporter": "python",
   "pygments_lexer": "ipython3",
   "version": "3.11.0"
  }
 },
 "nbformat": 4,
 "nbformat_minor": 2
}
